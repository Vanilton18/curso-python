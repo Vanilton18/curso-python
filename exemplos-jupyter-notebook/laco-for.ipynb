{
 "cells": [
  {
   "cell_type": "code",
   "execution_count": 1,
   "metadata": {},
   "outputs": [],
   "source": [
    "frutas = ['morango', 'ronan', 'azedinho', 'lulu','pêra']"
   ]
  },
  {
   "cell_type": "code",
   "execution_count": 5,
   "metadata": {},
   "outputs": [
    {
     "name": "stdout",
     "output_type": "stream",
     "text": [
      "fruta:  morango\n",
      "1\n",
      "fruta:  ronan\n",
      "2\n",
      "fruta:  azedinho\n",
      "3\n",
      "fruta:  lulu\n",
      "4\n",
      "fruta:  pêra\n",
      "5\n"
     ]
    }
   ],
   "source": [
    "n = 0\n",
    "for fruta in frutas:\n",
    "    print(\"fruta: \",fruta)\n",
    "    n += 1\n",
    "    print(n)"
   ]
  },
  {
   "cell_type": "code",
   "execution_count": 7,
   "metadata": {},
   "outputs": [
    {
     "name": "stdout",
     "output_type": "stream",
     "text": [
      "Letra:  a\n",
      "Letra:  b\n",
      "Letra:  c\n",
      "Letra:  d\n",
      "Letra:  e\n",
      "Letra:  f\n"
     ]
    }
   ],
   "source": [
    "for letra in \"abcdef\":\n",
    "    print(\"Letra: \", letra)"
   ]
  },
  {
   "cell_type": "code",
   "execution_count": 9,
   "metadata": {},
   "outputs": [
    {
     "name": "stdout",
     "output_type": "stream",
     "text": [
      "i:  5\n",
      "i:  6\n",
      "i:  7\n",
      "i:  8\n",
      "i:  9\n"
     ]
    }
   ],
   "source": [
    "for i in range(5,10):\n",
    "    print(\"i: \", i)"
   ]
  },
  {
   "cell_type": "code",
   "execution_count": null,
   "metadata": {},
   "outputs": [],
   "source": []
  }
 ],
 "metadata": {
  "kernelspec": {
   "display_name": "Python 3",
   "language": "python",
   "name": "python3"
  },
  "language_info": {
   "codemirror_mode": {
    "name": "ipython",
    "version": 3
   },
   "file_extension": ".py",
   "mimetype": "text/x-python",
   "name": "python",
   "nbconvert_exporter": "python",
   "pygments_lexer": "ipython3",
   "version": "3.6.4"
  }
 },
 "nbformat": 4,
 "nbformat_minor": 2
}
