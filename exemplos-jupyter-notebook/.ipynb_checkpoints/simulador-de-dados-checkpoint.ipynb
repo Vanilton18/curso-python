{
 "cells": [
  {
   "cell_type": "markdown",
   "metadata": {},
   "source": [
    "Simular dados 1 - 6 e fazer a soma e media"
   ]
  },
  {
   "cell_type": "code",
   "execution_count": 15,
   "metadata": {},
   "outputs": [],
   "source": [
    "import random\n",
    "import statistics"
   ]
  },
  {
   "cell_type": "code",
   "execution_count": 18,
   "metadata": {},
   "outputs": [
    {
     "name": "stdout",
     "output_type": "stream",
     "text": [
      "Digite a quantidade: 5\n",
      "Número gerado 6\n",
      "Número gerado 6\n",
      "Número gerado 3\n",
      "Número gerado 4\n",
      "Número gerado 2\n",
      "Soma:  21\n",
      "Máximo:  6\n",
      "Média:  4.2\n",
      "Desvio Padrao:  1.7888543819998317\n"
     ]
    }
   ],
   "source": [
    "quantidade = int(input(\"Digite a quantidade: \"))\n",
    "numeros = []\n",
    "for i in range(quantidade):\n",
    "    numero = random.randint(1, 6)\n",
    "    numeros.append(numero)\n",
    "    soma += numero\n",
    "    print(\"Número gerado\", numero)\n",
    "print(\"Soma: \", sum(numeros))\n",
    "print(\"Máximo: \", max(numeros))\n",
    "print(\"Média: \", statistics.mean(numeros))\n",
    "print(\"Desvio Padrao: \", statistics.stdev(numeros))"
   ]
  },
  {
   "cell_type": "code",
   "execution_count": null,
   "metadata": {},
   "outputs": [],
   "source": []
  }
 ],
 "metadata": {
  "kernelspec": {
   "display_name": "Python 3",
   "language": "python",
   "name": "python3"
  },
  "language_info": {
   "codemirror_mode": {
    "name": "ipython",
    "version": 3
   },
   "file_extension": ".py",
   "mimetype": "text/x-python",
   "name": "python",
   "nbconvert_exporter": "python",
   "pygments_lexer": "ipython3",
   "version": "3.6.4"
  }
 },
 "nbformat": 4,
 "nbformat_minor": 2
}
