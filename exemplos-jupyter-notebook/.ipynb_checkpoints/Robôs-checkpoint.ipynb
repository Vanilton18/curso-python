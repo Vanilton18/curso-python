{
 "cells": [
  {
   "cell_type": "code",
   "execution_count": 1,
   "metadata": {},
   "outputs": [],
   "source": [
    "import random\n",
    "\n",
    "class Ponto(object):\n",
    "    def __init__(self, x=0, y=0):\n",
    "        self.x = x\n",
    "        self.y = y\n",
    "    \n",
    "    def __str__(self):\n",
    "        return '<%s, %s>' % (self.x, self.y)\n",
    "    \n",
    "class Robo(Ponto):\n",
    "    \n",
    "    def subir(self):\n",
    "        if self.x <= 0:\n",
    "            print('Movimento proibido')\n",
    "        else:\n",
    "            self.x = self.x - 1\n",
    "            \n",
    "    def descer(self):\n",
    "        if self.x >= 9:\n",
    "            print('Movimento proibido')\n",
    "        else:\n",
    "            self.x = self.x + 1\n",
    "    \n",
    "    def esquerda(self):\n",
    "        if self.y <= 0:\n",
    "            print('Movimento proibido')\n",
    "        else:\n",
    "            self.y = self.y - 1\n",
    "    \n",
    "    def direita(self):\n",
    "        if self.y <= 0:\n",
    "            print('Movimento proibido')\n",
    "        else:\n",
    "            self.y = self.y + 1\n",
    "            \n",
    "class Recompensa(Ponto):\n",
    "    \n",
    "    def __init__(self, nome, x=0, y=0):\n",
    "        super(Recompensa, self).__init__(x, y)\n",
    "        self.nome = nome\n",
    "    \n",
    "    def __str__(self):\n",
    "        return '%s <%s, %s>' % (self.nome, self.x, self.y)"
   ]
  },
  {
   "cell_type": "code",
   "execution_count": 2,
   "metadata": {},
   "outputs": [],
   "source": [
    "recompensas = []\n",
    "nomes = ['moeda', 'gasolina', 'arma']\n",
    "for i in range(10):\n",
    "    r = Recompensa(random.choice(nomes), random.randint(0, 9),  random.randint(0, 9))\n",
    "    recompensas.append(r)"
   ]
  },
  {
   "cell_type": "code",
   "execution_count": 3,
   "metadata": {},
   "outputs": [
    {
     "name": "stdout",
     "output_type": "stream",
     "text": [
      "gasolina <4, 4>\n",
      "gasolina <4, 8>\n",
      "gasolina <5, 0>\n",
      "gasolina <1, 2>\n",
      "arma <0, 2>\n",
      "arma <5, 2>\n",
      "moeda <2, 5>\n",
      "moeda <8, 1>\n",
      "arma <9, 0>\n",
      "moeda <7, 8>\n"
     ]
    }
   ],
   "source": [
    "for r in recompensas:\n",
    "    print(r)"
   ]
  },
  {
   "cell_type": "code",
   "execution_count": 4,
   "metadata": {},
   "outputs": [
    {
     "name": "stdout",
     "output_type": "stream",
     "text": [
      "<3, 2>\n"
     ]
    }
   ],
   "source": [
    "robo1 = Robo(random.randint(0, 9), random.randint(0, 9))\n",
    "print(robo1)"
   ]
  },
  {
   "cell_type": "code",
   "execution_count": null,
   "metadata": {},
   "outputs": [
    {
     "name": "stdout",
     "output_type": "stream",
     "text": [
      "Onde deseja ir? digite 'sair' para terminardireita\n",
      "<3, 3>\n",
      "Não coletou recompensa, parei em: <3, 3>\n",
      "<3, 3>\n",
      "Não coletou recompensa, parei em: <3, 3>\n",
      "<3, 3>\n",
      "Não coletou recompensa, parei em: <3, 3>\n",
      "<3, 3>\n",
      "Não coletou recompensa, parei em: <3, 3>\n",
      "<3, 3>\n",
      "Não coletou recompensa, parei em: <3, 3>\n",
      "<3, 3>\n",
      "Não coletou recompensa, parei em: <3, 3>\n",
      "<3, 3>\n",
      "Não coletou recompensa, parei em: <3, 3>\n",
      "<3, 3>\n",
      "Não coletou recompensa, parei em: <3, 3>\n",
      "<3, 3>\n",
      "Não coletou recompensa, parei em: <3, 3>\n",
      "<3, 3>\n",
      "Não coletou recompensa, parei em: <3, 3>\n"
     ]
    }
   ],
   "source": [
    "def checar_recompensa(robo, recompensas):\n",
    "    \"\"\"\n",
    "    Imprime o nome da recompensa caso tenha encontrado\n",
    "    \"\"\"\n",
    "    \n",
    "    for r in recompensas:\n",
    "        print(robo)\n",
    "        if r.x == robo.x and r.y == robo.y:\n",
    "            print('Posicao Robo: {}, {}'.format(robo, r))\n",
    "        else:\n",
    "            print('Não coletou recompensa, parei em:', robo)\n",
    "\n",
    "while True:\n",
    "    movimento = input(\"Onde deseja ir? digite 'sair' para terminar\")\n",
    "    if movimento == 'subir':\n",
    "        robo1.subir()\n",
    "    elif movimento == 'descer':\n",
    "        robo1.descer()\n",
    "    elif movimento == 'esquerda':\n",
    "        robo1.esquerda()\n",
    "    elif movimento == 'direita':\n",
    "        robo1.direita()\n",
    "    elif movimento == 'sair':\n",
    "        break\n",
    "    else:\n",
    "        print('Digite um movimento válido')\n",
    "    checar_recompensa(robo1, recompensas)\n",
    "print(robo1)\n",
    "print('Fim do programa')"
   ]
  },
  {
   "cell_type": "code",
   "execution_count": null,
   "metadata": {},
   "outputs": [],
   "source": []
  },
  {
   "cell_type": "code",
   "execution_count": null,
   "metadata": {},
   "outputs": [],
   "source": []
  }
 ],
 "metadata": {
  "kernelspec": {
   "display_name": "Python 3",
   "language": "python",
   "name": "python3"
  },
  "language_info": {
   "codemirror_mode": {
    "name": "ipython",
    "version": 3
   },
   "file_extension": ".py",
   "mimetype": "text/x-python",
   "name": "python",
   "nbconvert_exporter": "python",
   "pygments_lexer": "ipython3",
   "version": "3.6.4"
  }
 },
 "nbformat": 4,
 "nbformat_minor": 2
}
