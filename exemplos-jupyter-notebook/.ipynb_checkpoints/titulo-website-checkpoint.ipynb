{
 "cells": [
  {
   "cell_type": "code",
   "execution_count": 25,
   "metadata": {},
   "outputs": [],
   "source": [
    "import requests\n",
    "import re\n",
    "\n",
    "def titulo_site(site):\n",
    "    print(\"Acessando o site...\")\n",
    "    resposta = requests.get(site)\n",
    "    title = re.search('<title>(.*)</title>', resposta.text).group(1)\n",
    "    print(\"O título do site é: {}\".format(title))"
   ]
  },
  {
   "cell_type": "code",
   "execution_count": 26,
   "metadata": {},
   "outputs": [
    {
     "name": "stdout",
     "output_type": "stream",
     "text": [
      "Digite o site com http(s): http://vanilton.net\n",
      "Acessando o site...\n",
      "O título do site é: Vanilton.net\n"
     ]
    }
   ],
   "source": [
    "titulo = titulo_site(input(\"Digite o site com http(s): \"))"
   ]
  },
  {
   "cell_type": "code",
   "execution_count": null,
   "metadata": {},
   "outputs": [],
   "source": []
  }
 ],
 "metadata": {
  "kernelspec": {
   "display_name": "Python 3",
   "language": "python",
   "name": "python3"
  },
  "language_info": {
   "codemirror_mode": {
    "name": "ipython",
    "version": 3
   },
   "file_extension": ".py",
   "mimetype": "text/x-python",
   "name": "python",
   "nbconvert_exporter": "python",
   "pygments_lexer": "ipython3",
   "version": "3.6.4"
  }
 },
 "nbformat": 4,
 "nbformat_minor": 2
}
