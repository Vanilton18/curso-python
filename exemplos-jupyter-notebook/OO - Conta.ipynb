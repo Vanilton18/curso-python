{
 "cells": [
  {
   "cell_type": "code",
   "execution_count": 10,
   "metadata": {},
   "outputs": [],
   "source": [
    "import random\n",
    "\n",
    "class Conta:\n",
    "    \n",
    "    def __init__(self, nome, saldo=0):\n",
    "        self.nome = nome\n",
    "        self.saldo = saldo\n",
    "        self.numero = random.randint(1, 100)\n",
    "    \n",
    "    def __str__(self):\n",
    "        return \"Nome: {}, Saldo: {}, Numero: {}\".format(self.nome, self.saldo, self.numero)\n",
    "        "
   ]
  },
  {
   "cell_type": "code",
   "execution_count": 15,
   "metadata": {},
   "outputs": [],
   "source": [
    "c1 = Conta(\"Vanilton\")\n",
    "c1.saldo = 100.50"
   ]
  },
  {
   "cell_type": "code",
   "execution_count": 16,
   "metadata": {},
   "outputs": [
    {
     "data": {
      "text/plain": [
       "100.5"
      ]
     },
     "execution_count": 16,
     "metadata": {},
     "output_type": "execute_result"
    }
   ],
   "source": [
    "c1.saldo"
   ]
  },
  {
   "cell_type": "code",
   "execution_count": 17,
   "metadata": {},
   "outputs": [
    {
     "data": {
      "text/plain": [
       "'Nome: Vanilton, Saldo: 100.5, Numero: 47'"
      ]
     },
     "execution_count": 17,
     "metadata": {},
     "output_type": "execute_result"
    }
   ],
   "source": [
    "c1.__str__()"
   ]
  },
  {
   "cell_type": "code",
   "execution_count": null,
   "metadata": {},
   "outputs": [],
   "source": [
    "def checar_recompensa(robo, recompensas):\n",
    "    \"\"\"\n",
    "    Imprime o nome da recompensa caso tenha encontrado\n",
    "    \"\"\"\n",
    "    pass\n",
    "\n",
    "while True:\n",
    "    movimento = input(\"Onde deseja ir? digite 'sair' para terminar\")\n",
    "    if movimento == 'subir':\n",
    "        robo1.subir()\n",
    "    elif movimento == 'descer':\n",
    "        robo1.descer()\n",
    "    elif movimento == 'esquerda':\n",
    "        robo1.esquerda()\n",
    "    elif movimento == 'direita':\n",
    "        robo1.direita()\n",
    "    elif movimento == 'sair':\n",
    "        break\n",
    "    else:\n",
    "        print('Digite um movimento válido')\n",
    "    checar_recompensa(robo1, recompensas)\n",
    "print(robo1)\n",
    "print('Fim do programa')"
   ]
  }
 ],
 "metadata": {
  "kernelspec": {
   "display_name": "Python 3",
   "language": "python",
   "name": "python3"
  },
  "language_info": {
   "codemirror_mode": {
    "name": "ipython",
    "version": 3
   },
   "file_extension": ".py",
   "mimetype": "text/x-python",
   "name": "python",
   "nbconvert_exporter": "python",
   "pygments_lexer": "ipython3",
   "version": "3.6.4"
  }
 },
 "nbformat": 4,
 "nbformat_minor": 2
}
