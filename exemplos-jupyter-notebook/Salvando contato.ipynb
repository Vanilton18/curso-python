{
 "cells": [
  {
   "cell_type": "markdown",
   "metadata": {},
   "source": [
    "#Salvando contato"
   ]
  },
  {
   "cell_type": "code",
   "execution_count": 52,
   "metadata": {},
   "outputs": [],
   "source": [
    "import os.path\n",
    "        \n",
    "def salvar_contato_em_arquivo(nome, email):\n",
    "    if os.path.isfile(\"./contatos_salvos.txt\"):\n",
    "        print(\"Arquivo existe, adicionando conteudo\")\n",
    "    else:\n",
    "        print(\"Arquivo não existe, criando e adicionando conteúdo...\")\n",
    "    arquivo = open(\"contatos_salvos.txt\", \"a\")\n",
    "    arquivo.write(\"{},{}{}\".format(nome, email,\"\\n\"))\n",
    "    print(\"{}, {}\".format(nome, email))\n",
    "    arquivo.close();        \n"
   ]
  },
  {
   "cell_type": "code",
   "execution_count": 53,
   "metadata": {},
   "outputs": [
    {
     "name": "stdout",
     "output_type": "stream",
     "text": [
      "Arquivo existe, adicionando conteudo\n",
      "Vanilton, vanilton18@gmail.com\n"
     ]
    }
   ],
   "source": [
    "salvar_contato_em_arquivo(\"Vanilton\" , \"vanilton18@gmail.com\")"
   ]
  },
  {
   "cell_type": "code",
   "execution_count": 33,
   "metadata": {},
   "outputs": [],
   "source": [
    "def ler_arquivo():\n",
    "    arquivo = open(\"contatos_salvos.txt\")\n",
    "    #print(arquivo.read())\n",
    "    string = arquivo.read();\n",
    "    arquivo.close()\n",
    "    return string"
   ]
  },
  {
   "cell_type": "code",
   "execution_count": 34,
   "metadata": {},
   "outputs": [
    {
     "data": {
      "text/plain": [
       "'Vanilton,vanilton18@gmail.comVanilton,vanilton18@gmail.com/nVanilton,vanilton18@gmail.com\\nVanilton,vanilton18@gmail.com,\\nVanilton,vanilton18@gmail.com\\nVanilton,vanilton18@gmail.com\\nVanilton,vanilton18@gmail.com\\n'"
      ]
     },
     "execution_count": 34,
     "metadata": {},
     "output_type": "execute_result"
    }
   ],
   "source": [
    "ler_arquivo()"
   ]
  },
  {
   "cell_type": "code",
   "execution_count": 35,
   "metadata": {},
   "outputs": [
    {
     "data": {
      "text/plain": [
       "211"
      ]
     },
     "execution_count": 35,
     "metadata": {},
     "output_type": "execute_result"
    }
   ],
   "source": [
    "tx_arquivo = ler_arquivo()\n",
    "len(tx_arquivo)"
   ]
  },
  {
   "cell_type": "code",
   "execution_count": 54,
   "metadata": {},
   "outputs": [],
   "source": [
    "def pegar_dados():\n",
    "    print(\"Pegando dados...\")\n",
    "    valores = {}\n",
    "    valores[\"nome\"] = input('Nome: ')\n",
    "    valores[\"email\"] = input('Email: ')\n",
    "    return valores"
   ]
  },
  {
   "cell_type": "code",
   "execution_count": 56,
   "metadata": {},
   "outputs": [],
   "source": [
    "def inicio(nome_arquivo=\"contatos_salvos.txt\"):\n",
    "    arquivo = open(nome_arquivo, \"a\")\n",
    "    quantidade = int(input('Digite quantidade de contatos: '))\n",
    "    for i in range(quantidade):\n",
    "        contato = pegar_dados()\n",
    "        arquivo.write(\"{}\".format(contato))\n",
    "        arquivo.close();            "
   ]
  },
  {
   "cell_type": "code",
   "execution_count": 57,
   "metadata": {},
   "outputs": [
    {
     "name": "stdout",
     "output_type": "stream",
     "text": [
      "Digite quantidade de contatos: 1\n",
      "Nome: Juvenal\n",
      "Email: juju@gmail.com\n"
     ]
    }
   ],
   "source": [
    "inicio()"
   ]
  },
  {
   "cell_type": "code",
   "execution_count": null,
   "metadata": {},
   "outputs": [],
   "source": []
  },
  {
   "cell_type": "code",
   "execution_count": null,
   "metadata": {},
   "outputs": [],
   "source": []
  }
 ],
 "metadata": {
  "kernelspec": {
   "display_name": "Python 3",
   "language": "python",
   "name": "python3"
  },
  "language_info": {
   "codemirror_mode": {
    "name": "ipython",
    "version": 3
   },
   "file_extension": ".py",
   "mimetype": "text/x-python",
   "name": "python",
   "nbconvert_exporter": "python",
   "pygments_lexer": "ipython3",
   "version": "3.6.4"
  }
 },
 "nbformat": 4,
 "nbformat_minor": 2
}
